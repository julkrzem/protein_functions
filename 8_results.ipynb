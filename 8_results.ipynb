{
 "cells": [
  {
   "cell_type": "markdown",
   "metadata": {},
   "source": [
    "The best results were achieved using Random Forest on the combined dataset of protein properties and sequence statistics, where I found the amino acid content in the polypeptide to be especially useful for the correct prediction. This approach improved the prediction performance significantly.\n",
    "\n",
    "The results achieved with Random forest are:\n",
    "- On the protein properties dataset (I): accuracy: 0.63, F1: 0.60 \n",
    "- On the protein sequences dataset (II), after feature engineering: accuracy: 0.76, F1: 0.76  \n",
    "- On the combined dataset: accuracy: 0.82, F1: 0.79  \n",
    "\n",
    "PyTorch networks were performing worse than RF and the best results were achieved when the protein properties were enriched by the LSTM prediction. As input to LSTM beginning and end of the sequence were used, then the prediction were combined with protein properties dataset to enhance it with additional protein characteristics. This 2-step prediction enable to achieve:\n",
    "- accuracy: 0.62, F1: 0.61\n",
    "\n",
    "While the results on the Neural Networks separately were:\n",
    "- LSTM accuracy: 0.55, F1: 0.55\n",
    "- NN Classifier accuracy: 0.50, F1: 0.48\n",
    "\n",
    "\n",
    "While the RF model has shown some decent results, there’s still potential for improvement. With more resources, the neural network’s performance could be improved whether by training on full sequences or experimenting with different, more complex architectures. \n",
    "\n",
    "On the other hand it cold be also beneficial to further enrich the dataset with more polypeptide data - the protein properties dataset (I) had many NaN values, which were filled with the mean of the group, which in some cases could be inaccurate and disrupt the natural correlations in the data.\n",
    "For example longer sequences tend to have higher molecular weight, but this correlation could be lost in the situation where a long sequence would be filled with a low mean molecular mass value calculated based on shorter sequences. \n",
    "So it would be even better to collect more data instead of only handling the missing values. \n"
   ]
  }
 ],
 "metadata": {
  "kernelspec": {
   "display_name": ".venv",
   "language": "python",
   "name": "python3"
  },
  "language_info": {
   "codemirror_mode": {
    "name": "ipython",
    "version": 3
   },
   "file_extension": ".py",
   "mimetype": "text/x-python",
   "name": "python",
   "nbconvert_exporter": "python",
   "pygments_lexer": "ipython3",
   "version": "3.11.7"
  }
 },
 "nbformat": 4,
 "nbformat_minor": 2
}
